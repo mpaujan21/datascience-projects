{
  "nbformat": 4,
  "nbformat_minor": 0,
  "metadata": {
    "kernelspec": {
      "display_name": "Python 3",
      "language": "python",
      "name": "python3"
    },
    "language_info": {
      "codemirror_mode": {
        "name": "ipython",
        "version": 3
      },
      "file_extension": ".py",
      "mimetype": "text/x-python",
      "name": "python",
      "nbconvert_exporter": "python",
      "pygments_lexer": "ipython3",
      "version": "3.8.5"
    },
    "colab": {
      "name": "IMDB Review Sentiment Prediction with RNN.ipynb",
      "provenance": [],
      "collapsed_sections": [
        "ux4SV3DafTcf"
      ]
    },
    "accelerator": "GPU"
  },
  "cells": [
    {
      "cell_type": "markdown",
      "metadata": {
        "id": "ux4SV3DafTcf"
      },
      "source": [
        "# Download and Preview Data"
      ]
    },
    {
      "cell_type": "code",
      "metadata": {
        "id": "G1C22NhMrVGv"
      },
      "source": [
        "import matplotlib.pyplot as plt\r\n",
        "%matplotlib inline\r\n",
        "import tensorflow as tf\r\n",
        "import numpy as np"
      ],
      "execution_count": 1,
      "outputs": []
    },
    {
      "cell_type": "code",
      "metadata": {
        "id": "xf8cOrpRvNU7"
      },
      "source": [
        "from tensorflow.keras.models import Sequential\r\n",
        "from tensorflow.keras.layers import Dense, GRU, Embedding\r\n",
        "from tensorflow.keras.optimizers import Adam\r\n",
        "from tensorflow.keras.preprocessing.text import Tokenizer\r\n",
        "from tensorflow.keras.preprocessing.sequence import pad_sequences"
      ],
      "execution_count": 2,
      "outputs": []
    },
    {
      "cell_type": "code",
      "metadata": {
        "colab": {
          "base_uri": "https://localhost:8080/"
        },
        "id": "T_jFDehl5EFA",
        "outputId": "a84ca28b-18cb-48ad-d7bc-90e5c0dbbace"
      },
      "source": [
        "# Custom python module\r\n",
        "import imdb\r\n",
        "\r\n",
        "imdb.maybe_download_and_extract()"
      ],
      "execution_count": 6,
      "outputs": [
        {
          "output_type": "stream",
          "text": [
            "- Download progress: 100.0%\n",
            "Download finished. Extracting files.\n",
            "Done.\n"
          ],
          "name": "stdout"
        }
      ]
    },
    {
      "cell_type": "code",
      "metadata": {
        "id": "-udjAAS1zVMt"
      },
      "source": [
        "x_train_text, y_train = imdb.load_data(train=True)\r\n",
        "x_test_text, y_test = imdb.load_data(train=False)\r\n",
        "\r\n",
        "y_train = np.array(y_train)\r\n",
        "y_test = np.array(y_test)"
      ],
      "execution_count": 7,
      "outputs": []
    },
    {
      "cell_type": "code",
      "metadata": {
        "colab": {
          "base_uri": "https://localhost:8080/"
        },
        "id": "6dBr54eSz0eB",
        "outputId": "99ada04a-14c3-496a-87ee-923610adb327"
      },
      "source": [
        "print(\"Train-set size: \", len(x_train_text))\r\n",
        "print(\"Test-set size:  \", len(x_test_text))"
      ],
      "execution_count": 8,
      "outputs": [
        {
          "output_type": "stream",
          "text": [
            "Train-set size:  25000\n",
            "Test-set size:   25000\n"
          ],
          "name": "stdout"
        }
      ]
    },
    {
      "cell_type": "code",
      "metadata": {
        "id": "Uc55uz1k0F3p"
      },
      "source": [
        "data_text = x_train_text + x_test_text"
      ],
      "execution_count": 9,
      "outputs": []
    },
    {
      "cell_type": "code",
      "metadata": {
        "colab": {
          "base_uri": "https://localhost:8080/",
          "height": 89
        },
        "id": "1U2x6ZFg0ZnR",
        "outputId": "c952ef12-d034-4ebc-c09a-3417f8e6db19"
      },
      "source": [
        "x_train_text[1]"
      ],
      "execution_count": 10,
      "outputs": [
        {
          "output_type": "execute_result",
          "data": {
            "application/vnd.google.colaboratory.intrinsic+json": {
              "type": "string"
            },
            "text/plain": [
              "'I really love this movie, saw it again last week after 3 years or so. This movie is perfect, great acting, great story, great directing/camera-work/music. It is a gift to show it to someone you love. too bad jaco van dormael did not make more movies after this one. Top 5 work. Really!!<br /><br />Today, it\\'s 3 years and 3 days later then the comment above. it was never posted because it was not more than 10 lines. Anyway, i saw \"le huitieme jour\" again yesterday. This is with no doubt in my movie top 3. together with \"Cinema Paradiso\" which is also a masterpiece. The soundtrack is also really good. I am really curious about \"jaco von dormael\\'s\" new movie. I hope it will complete my movie top 3. If you see this movie, rent it. Or even better. buy it. Because you will want to see it again.'"
            ]
          },
          "metadata": {
            "tags": []
          },
          "execution_count": 10
        }
      ]
    },
    {
      "cell_type": "markdown",
      "metadata": {
        "id": "mxMYeNXXfiN0"
      },
      "source": [
        "# Preprocessing"
      ]
    },
    {
      "cell_type": "code",
      "metadata": {
        "id": "WfzNUDgi4Ytt"
      },
      "source": [
        "# Tokenize text data\r\n",
        "tokenizer = Tokenizer(num_words=10000)\r\n",
        "tokenizer.fit_on_texts(data_text)"
      ],
      "execution_count": 11,
      "outputs": []
    },
    {
      "cell_type": "code",
      "metadata": {
        "id": "e72XtGuj-QEv"
      },
      "source": [
        "x_train_tokens = tokenizer.texts_to_sequences(x_train_text)\r\n",
        "x_test_tokens = tokenizer.texts_to_sequences(x_test_text)"
      ],
      "execution_count": 12,
      "outputs": []
    },
    {
      "cell_type": "code",
      "metadata": {
        "colab": {
          "base_uri": "https://localhost:8080/"
        },
        "id": "RA5j51kS-ZjZ",
        "outputId": "095ab96a-b057-40a2-91c4-5caef711e4f7"
      },
      "source": [
        "np.array(x_train_tokens[1])"
      ],
      "execution_count": 13,
      "outputs": [
        {
          "output_type": "execute_result",
          "data": {
            "text/plain": [
              "array([  10,   62,  112,   11,   17,  210,    9,  172,  238, 1237,  100,\n",
              "        338,  153,   38,   34,   11,   17,    6,  399,   78,  113,   78,\n",
              "         64,   78,  975,  355,  158,  207,    9,    6,    3, 3746,    5,\n",
              "        119,    9,    5,  296,   22,  112,   96,   74, 1079,  115,   21,\n",
              "         94,   51,   97,  100,   11,   27,  342,  447,  158,   62,    7,\n",
              "          7,  621,   44,  338,  153,    2,  338,  483,  305,   91,    1,\n",
              "        929,  729,    9,   13,  110, 5370,   84,    9,   13,   21,   51,\n",
              "         71,  156,  409,  548,   10,  210, 2938,  172, 4148,   11,    6,\n",
              "         16,   54,  798,    8,   56,   17,  342,  338,  294,   16,  443,\n",
              "         60,    6,   81,    3,  922,    1,  738,    6,   81,   62,   49,\n",
              "         10,  235,   62, 2119,   42, 2944,  168,   17,   10,  433,    9,\n",
              "         80,  597,   56,   17,  342,  338,   43,   22,   63,   11,   17,\n",
              "        817,    9,   38,   57,  126,  786,    9,   84,   22,   80,  178,\n",
              "          5,   63,    9,  172])"
            ]
          },
          "metadata": {
            "tags": []
          },
          "execution_count": 13
        }
      ]
    },
    {
      "cell_type": "code",
      "metadata": {
        "colab": {
          "base_uri": "https://localhost:8080/"
        },
        "id": "wIhbNQcO-bQa",
        "outputId": "32bf79f2-601d-4e81-de26-710da98b69f8"
      },
      "source": [
        "# See the mean and maximum of num_tokens\r\n",
        "num_tokens = [len(tokens) for tokens in x_train_tokens + x_test_tokens]\r\n",
        "num_tokens = np.array(num_tokens)\r\n",
        "print(np.mean(num_tokens))\r\n",
        "print(np.max(num_tokens))"
      ],
      "execution_count": 14,
      "outputs": [
        {
          "output_type": "stream",
          "text": [
            "221.27716\n",
            "2209\n"
          ],
          "name": "stdout"
        }
      ]
    },
    {
      "cell_type": "code",
      "metadata": {
        "colab": {
          "base_uri": "https://localhost:8080/"
        },
        "id": "joRXUSdX_Zv2",
        "outputId": "32e58047-ff90-41c9-a37e-14a38eeb8397"
      },
      "source": [
        "# Remove outliers\r\n",
        "max_tokens = np.mean(num_tokens) + 2 * np.std(num_tokens)\r\n",
        "max_tokens = int(max_tokens)\r\n",
        "max_tokens"
      ],
      "execution_count": 15,
      "outputs": [
        {
          "output_type": "execute_result",
          "data": {
            "text/plain": [
              "544"
            ]
          },
          "metadata": {
            "tags": []
          },
          "execution_count": 15
        }
      ]
    },
    {
      "cell_type": "code",
      "metadata": {
        "colab": {
          "base_uri": "https://localhost:8080/"
        },
        "id": "u2r_Ckn__xgW",
        "outputId": "e7c76084-707d-4759-a072-e78dab0d028e"
      },
      "source": [
        "# About 94% texts are not outliers\r\n",
        "np.sum(num_tokens < max_tokens) / len(num_tokens)"
      ],
      "execution_count": 16,
      "outputs": [
        {
          "output_type": "execute_result",
          "data": {
            "text/plain": [
              "0.94532"
            ]
          },
          "metadata": {
            "tags": []
          },
          "execution_count": 16
        }
      ]
    },
    {
      "cell_type": "code",
      "metadata": {
        "id": "qdli98r-_zXW"
      },
      "source": [
        "pad = 'pre'\r\n",
        "\r\n",
        "# Padding into same length\r\n",
        "x_train_pad = pad_sequences(x_train_tokens, maxlen=max_tokens,\r\n",
        "                            padding=pad, truncating=pad)\r\n",
        "x_test_pad = pad_sequences(x_test_tokens, maxlen=max_tokens,\r\n",
        "                           padding=pad, truncating=pad)"
      ],
      "execution_count": 17,
      "outputs": []
    },
    {
      "cell_type": "code",
      "metadata": {
        "colab": {
          "base_uri": "https://localhost:8080/"
        },
        "id": "xdkQwNSGASoJ",
        "outputId": "e8e83c9c-fcef-4239-b687-c55707419792"
      },
      "source": [
        "print(x_train_pad.shape)\r\n",
        "print(x_test_pad.shape)"
      ],
      "execution_count": 18,
      "outputs": [
        {
          "output_type": "stream",
          "text": [
            "(25000, 544)\n",
            "(25000, 544)\n"
          ],
          "name": "stdout"
        }
      ]
    },
    {
      "cell_type": "code",
      "metadata": {
        "colab": {
          "base_uri": "https://localhost:8080/"
        },
        "id": "Wae_fIlwAW6k",
        "outputId": "81f65625-487b-4564-a661-63134ae05f4f"
      },
      "source": [
        "x_train_pad[1]"
      ],
      "execution_count": 19,
      "outputs": [
        {
          "output_type": "execute_result",
          "data": {
            "text/plain": [
              "array([   0,    0,    0,    0,    0,    0,    0,    0,    0,    0,    0,\n",
              "          0,    0,    0,    0,    0,    0,    0,    0,    0,    0,    0,\n",
              "          0,    0,    0,    0,    0,    0,    0,    0,    0,    0,    0,\n",
              "          0,    0,    0,    0,    0,    0,    0,    0,    0,    0,    0,\n",
              "          0,    0,    0,    0,    0,    0,    0,    0,    0,    0,    0,\n",
              "          0,    0,    0,    0,    0,    0,    0,    0,    0,    0,    0,\n",
              "          0,    0,    0,    0,    0,    0,    0,    0,    0,    0,    0,\n",
              "          0,    0,    0,    0,    0,    0,    0,    0,    0,    0,    0,\n",
              "          0,    0,    0,    0,    0,    0,    0,    0,    0,    0,    0,\n",
              "          0,    0,    0,    0,    0,    0,    0,    0,    0,    0,    0,\n",
              "          0,    0,    0,    0,    0,    0,    0,    0,    0,    0,    0,\n",
              "          0,    0,    0,    0,    0,    0,    0,    0,    0,    0,    0,\n",
              "          0,    0,    0,    0,    0,    0,    0,    0,    0,    0,    0,\n",
              "          0,    0,    0,    0,    0,    0,    0,    0,    0,    0,    0,\n",
              "          0,    0,    0,    0,    0,    0,    0,    0,    0,    0,    0,\n",
              "          0,    0,    0,    0,    0,    0,    0,    0,    0,    0,    0,\n",
              "          0,    0,    0,    0,    0,    0,    0,    0,    0,    0,    0,\n",
              "          0,    0,    0,    0,    0,    0,    0,    0,    0,    0,    0,\n",
              "          0,    0,    0,    0,    0,    0,    0,    0,    0,    0,    0,\n",
              "          0,    0,    0,    0,    0,    0,    0,    0,    0,    0,    0,\n",
              "          0,    0,    0,    0,    0,    0,    0,    0,    0,    0,    0,\n",
              "          0,    0,    0,    0,    0,    0,    0,    0,    0,    0,    0,\n",
              "          0,    0,    0,    0,    0,    0,    0,    0,    0,    0,    0,\n",
              "          0,    0,    0,    0,    0,    0,    0,    0,    0,    0,    0,\n",
              "          0,    0,    0,    0,    0,    0,    0,    0,    0,    0,    0,\n",
              "          0,    0,    0,    0,    0,    0,    0,    0,    0,    0,    0,\n",
              "          0,    0,    0,    0,    0,    0,    0,    0,    0,    0,    0,\n",
              "          0,    0,    0,    0,    0,    0,    0,    0,    0,    0,    0,\n",
              "          0,    0,    0,    0,    0,    0,    0,    0,    0,    0,    0,\n",
              "          0,    0,    0,    0,    0,    0,    0,    0,    0,    0,    0,\n",
              "          0,    0,    0,    0,    0,    0,    0,    0,    0,    0,    0,\n",
              "          0,    0,    0,    0,    0,    0,    0,    0,    0,    0,    0,\n",
              "          0,    0,    0,    0,    0,    0,    0,    0,    0,    0,    0,\n",
              "          0,    0,    0,    0,    0,    0,    0,    0,    0,    0,    0,\n",
              "          0,    0,    0,    0,    0,    0,    0,    0,    0,    0,    0,\n",
              "          0,    0,    0,    0,    0,    0,    0,    0,    0,    0,    0,\n",
              "          0,   10,   62,  112,   11,   17,  210,    9,  172,  238, 1237,\n",
              "        100,  338,  153,   38,   34,   11,   17,    6,  399,   78,  113,\n",
              "         78,   64,   78,  975,  355,  158,  207,    9,    6,    3, 3746,\n",
              "          5,  119,    9,    5,  296,   22,  112,   96,   74, 1079,  115,\n",
              "         21,   94,   51,   97,  100,   11,   27,  342,  447,  158,   62,\n",
              "          7,    7,  621,   44,  338,  153,    2,  338,  483,  305,   91,\n",
              "          1,  929,  729,    9,   13,  110, 5370,   84,    9,   13,   21,\n",
              "         51,   71,  156,  409,  548,   10,  210, 2938,  172, 4148,   11,\n",
              "          6,   16,   54,  798,    8,   56,   17,  342,  338,  294,   16,\n",
              "        443,   60,    6,   81,    3,  922,    1,  738,    6,   81,   62,\n",
              "         49,   10,  235,   62, 2119,   42, 2944,  168,   17,   10,  433,\n",
              "          9,   80,  597,   56,   17,  342,  338,   43,   22,   63,   11,\n",
              "         17,  817,    9,   38,   57,  126,  786,    9,   84,   22,   80,\n",
              "        178,    5,   63,    9,  172], dtype=int32)"
            ]
          },
          "metadata": {
            "tags": []
          },
          "execution_count": 19
        }
      ]
    },
    {
      "cell_type": "code",
      "metadata": {
        "id": "O2fyk6fBFzgt"
      },
      "source": [
        "idx = tokenizer.word_index\r\n",
        "inverse_map = dict(zip(idx.values(), idx.keys()))"
      ],
      "execution_count": 20,
      "outputs": []
    },
    {
      "cell_type": "code",
      "metadata": {
        "id": "yjcmv5F8GCog"
      },
      "source": [
        "def tokens_to_string(tokens):\r\n",
        "    words = [inverse_map[token] for token in tokens if token != 0]\r\n",
        "    text = \" \".join(words)\r\n",
        "    return text"
      ],
      "execution_count": 21,
      "outputs": []
    },
    {
      "cell_type": "code",
      "metadata": {
        "colab": {
          "base_uri": "https://localhost:8080/",
          "height": 89
        },
        "id": "xv6bRfDmGGf3",
        "outputId": "4bcbb8d9-58b3-4606-a290-ce5a46afc3f1"
      },
      "source": [
        "tokens_to_string(x_train_tokens[1])"
      ],
      "execution_count": 22,
      "outputs": [
        {
          "output_type": "execute_result",
          "data": {
            "application/vnd.google.colaboratory.intrinsic+json": {
              "type": "string"
            },
            "text/plain": [
              "\"i really love this movie saw it again last week after 3 years or so this movie is perfect great acting great story great directing camera work music it is a gift to show it to someone you love too bad van did not make more movies after this one top 5 work really br br today it's 3 years and 3 days later then the comment above it was never posted because it was not more than 10 lines anyway i saw le again yesterday this is with no doubt in my movie top 3 together with cinema which is also a masterpiece the soundtrack is also really good i am really curious about von new movie i hope it will complete my movie top 3 if you see this movie rent it or even better buy it because you will want to see it again\""
            ]
          },
          "metadata": {
            "tags": []
          },
          "execution_count": 22
        }
      ]
    },
    {
      "cell_type": "markdown",
      "metadata": {
        "id": "G1qINXCNkwoJ"
      },
      "source": [
        "# Model Training"
      ]
    },
    {
      "cell_type": "code",
      "metadata": {
        "id": "pkpYB5s4GH76"
      },
      "source": [
        "model = Sequential()"
      ],
      "execution_count": 23,
      "outputs": []
    },
    {
      "cell_type": "code",
      "metadata": {
        "id": "NgqnQ-7zGaSc"
      },
      "source": [
        "embedding_size = 8\r\n",
        "num_words=10000\r\n",
        "\r\n",
        "model.add(Embedding(input_dim=num_words,\r\n",
        "                    output_dim=embedding_size,\r\n",
        "                    input_length=max_tokens,\r\n",
        "                    name='layer_embedding'))"
      ],
      "execution_count": 24,
      "outputs": []
    },
    {
      "cell_type": "code",
      "metadata": {
        "id": "8QrJ1Pz0Gmza"
      },
      "source": [
        "model.add(GRU(units=16, return_sequences=True))\r\n",
        "model.add(GRU(units=8, return_sequences=True))\r\n",
        "model.add(GRU(units=4))\r\n",
        "model.add(Dense(1, activation='sigmoid'))"
      ],
      "execution_count": 25,
      "outputs": []
    },
    {
      "cell_type": "code",
      "metadata": {
        "colab": {
          "base_uri": "https://localhost:8080/"
        },
        "id": "op05hv5XGxHv",
        "outputId": "642d5c0b-8b1e-4cd6-d9d0-a1585c624f47"
      },
      "source": [
        "model.summary()"
      ],
      "execution_count": 26,
      "outputs": [
        {
          "output_type": "stream",
          "text": [
            "Model: \"sequential\"\n",
            "_________________________________________________________________\n",
            "Layer (type)                 Output Shape              Param #   \n",
            "=================================================================\n",
            "layer_embedding (Embedding)  (None, 544, 8)            80000     \n",
            "_________________________________________________________________\n",
            "gru (GRU)                    (None, 544, 16)           1248      \n",
            "_________________________________________________________________\n",
            "gru_1 (GRU)                  (None, 544, 8)            624       \n",
            "_________________________________________________________________\n",
            "gru_2 (GRU)                  (None, 4)                 168       \n",
            "_________________________________________________________________\n",
            "dense (Dense)                (None, 1)                 5         \n",
            "=================================================================\n",
            "Total params: 82,045\n",
            "Trainable params: 82,045\n",
            "Non-trainable params: 0\n",
            "_________________________________________________________________\n"
          ],
          "name": "stdout"
        }
      ]
    },
    {
      "cell_type": "code",
      "metadata": {
        "id": "OF1D48GcGyqj"
      },
      "source": [
        "optimizer = Adam(lr=1e-3)\r\n",
        "model.compile(loss='binary_crossentropy',\r\n",
        "              optimizer=optimizer,\r\n",
        "              metrics=['accuracy'])"
      ],
      "execution_count": 27,
      "outputs": []
    },
    {
      "cell_type": "code",
      "metadata": {
        "colab": {
          "base_uri": "https://localhost:8080/"
        },
        "id": "rezxHjFuG4ob",
        "outputId": "5ff6c415-e689-4e3c-a2d9-2692c176f5db"
      },
      "source": [
        "%%time\r\n",
        "model.fit(x_train_pad, y_train,\r\n",
        "          validation_split=0.05, epochs=10, batch_size=64)"
      ],
      "execution_count": 28,
      "outputs": [
        {
          "output_type": "stream",
          "text": [
            "Epoch 1/10\n",
            "372/372 [==============================] - 30s 54ms/step - loss: 0.6045 - accuracy: 0.6331 - val_loss: 0.3729 - val_accuracy: 0.8496\n",
            "Epoch 2/10\n",
            "372/372 [==============================] - 19s 52ms/step - loss: 0.2748 - accuracy: 0.8938 - val_loss: 0.4048 - val_accuracy: 0.8360\n",
            "Epoch 3/10\n",
            "372/372 [==============================] - 20s 53ms/step - loss: 0.1943 - accuracy: 0.9312 - val_loss: 0.3105 - val_accuracy: 0.8792\n",
            "Epoch 4/10\n",
            "372/372 [==============================] - 19s 52ms/step - loss: 0.1504 - accuracy: 0.9511 - val_loss: 0.2068 - val_accuracy: 0.9312\n",
            "Epoch 5/10\n",
            "372/372 [==============================] - 19s 52ms/step - loss: 0.1227 - accuracy: 0.9605 - val_loss: 0.2842 - val_accuracy: 0.9072\n",
            "Epoch 6/10\n",
            "372/372 [==============================] - 19s 52ms/step - loss: 0.1036 - accuracy: 0.9685 - val_loss: 0.4835 - val_accuracy: 0.8504\n",
            "Epoch 7/10\n",
            "372/372 [==============================] - 20s 53ms/step - loss: 0.0895 - accuracy: 0.9741 - val_loss: 0.5603 - val_accuracy: 0.8464\n",
            "Epoch 8/10\n",
            "372/372 [==============================] - 20s 53ms/step - loss: 0.0848 - accuracy: 0.9757 - val_loss: 0.3753 - val_accuracy: 0.8896\n",
            "Epoch 9/10\n",
            "372/372 [==============================] - 20s 53ms/step - loss: 0.0790 - accuracy: 0.9777 - val_loss: 0.4828 - val_accuracy: 0.8688\n",
            "Epoch 10/10\n",
            "372/372 [==============================] - 19s 52ms/step - loss: 0.0699 - accuracy: 0.9824 - val_loss: 0.4811 - val_accuracy: 0.8736\n",
            "CPU times: user 3min 22s, sys: 5.28 s, total: 3min 27s\n",
            "Wall time: 3min 25s\n"
          ],
          "name": "stdout"
        },
        {
          "output_type": "execute_result",
          "data": {
            "text/plain": [
              "<tensorflow.python.keras.callbacks.History at 0x7fc57071f278>"
            ]
          },
          "metadata": {
            "tags": []
          },
          "execution_count": 28
        }
      ]
    },
    {
      "cell_type": "code",
      "metadata": {
        "colab": {
          "base_uri": "https://localhost:8080/"
        },
        "id": "qweSVnKIHEl2",
        "outputId": "76c9c678-1470-4296-e7a1-fe63b6360a96"
      },
      "source": [
        "result = model.evaluate(x_test_pad, y_test)"
      ],
      "execution_count": 30,
      "outputs": [
        {
          "output_type": "stream",
          "text": [
            "782/782 [==============================] - 19s 24ms/step - loss: 0.5215 - accuracy: 0.8555\n"
          ],
          "name": "stdout"
        }
      ]
    },
    {
      "cell_type": "code",
      "metadata": {
        "colab": {
          "base_uri": "https://localhost:8080/"
        },
        "id": "DlPZslPQdDin",
        "outputId": "595c71d0-3522-41a0-a91d-f72f96190b22"
      },
      "source": [
        "print(\"Accuracy: {0:.2%}\".format(result[1]))"
      ],
      "execution_count": 31,
      "outputs": [
        {
          "output_type": "stream",
          "text": [
            "Accuracy: 85.55%\n"
          ],
          "name": "stdout"
        }
      ]
    },
    {
      "cell_type": "markdown",
      "metadata": {
        "id": "UMqiHwW1k3nU"
      },
      "source": [
        "# Model Results"
      ]
    },
    {
      "cell_type": "code",
      "metadata": {
        "id": "cMsN0kPndEG_"
      },
      "source": [
        "y_pred = model.predict(x=x_test_pad[0:1000])\r\n",
        "y_pred = y_pred.T[0]"
      ],
      "execution_count": 32,
      "outputs": []
    },
    {
      "cell_type": "code",
      "metadata": {
        "id": "e-IhZEMLdMe6"
      },
      "source": [
        "cls_pred = np.array([1.0 if p>0.5 else 0.0 for p in y_pred])\r\n",
        "cls_true = np.array(y_test[0:1000])\r\n",
        "\r\n",
        "# See misclassified texts\r\n",
        "incorrect = np.where(cls_pred != cls_true)\r\n",
        "incorrect = incorrect[0]"
      ],
      "execution_count": 33,
      "outputs": []
    },
    {
      "cell_type": "code",
      "metadata": {
        "colab": {
          "base_uri": "https://localhost:8080/"
        },
        "id": "xnYrEuhbdTbU",
        "outputId": "1bab6da4-f993-4a99-9487-aa428b7a83b7"
      },
      "source": [
        "len(incorrect)"
      ],
      "execution_count": 34,
      "outputs": [
        {
          "output_type": "execute_result",
          "data": {
            "text/plain": [
              "153"
            ]
          },
          "metadata": {
            "tags": []
          },
          "execution_count": 34
        }
      ]
    },
    {
      "cell_type": "code",
      "metadata": {
        "colab": {
          "base_uri": "https://localhost:8080/"
        },
        "id": "ncWefHKmdVEs",
        "outputId": "3b807d44-d12c-4c5f-83f6-b8ef318dcca7"
      },
      "source": [
        "idx = incorrect[0]\r\n",
        "idx"
      ],
      "execution_count": 46,
      "outputs": [
        {
          "output_type": "execute_result",
          "data": {
            "text/plain": [
              "18"
            ]
          },
          "metadata": {
            "tags": []
          },
          "execution_count": 46
        }
      ]
    },
    {
      "cell_type": "code",
      "metadata": {
        "colab": {
          "base_uri": "https://localhost:8080/"
        },
        "id": "yp92CinedafE",
        "outputId": "091caeb2-dc3b-4d97-fe51-c191789568d1"
      },
      "source": [
        "text = x_test_text[idx]\r\n",
        "print(\"TEXT:\", text)\r\n",
        "print(\"Predicted: \", y_pred[idx])\r\n",
        "print(\"True class: \", cls_true[idx])"
      ],
      "execution_count": 47,
      "outputs": [
        {
          "output_type": "stream",
          "text": [
            "TEXT: Well, first of all - i am a big fanatic of horror movies, but however - I am pretty sick of all those damn American horror movies. They are all about the same thing - blood and violence. It's not even creepy. Well, it's nothin wrong with the blood and all that - doesn't even bother me - but that's not what makes a movie creepy! That's why I find this movie entertaining - it's fun to see a satire which is making fun of the koncept \"main horror USA\". American splatter/gore-movies, they are not suppose to be creepy, only funny. That's OK. But when they're suppose to be \"creepy\", it mostly gets pathetic. However, there are a few great american horror movies (Poltergeist, Psycho, Birds), but in the end it's all the same thing. That's why this movie came as a relief. Evil Ed is not just a cult movie - it's a classic! I can't wait untill master director Anders Jacobsson makes another goddamn splatter movie! Untill than I have to watch Evil Ed again - and again - and again! But I don't care - it is such an outstanding movie!\n",
            "Predicted:  0.4615328\n",
            "True class:  1.0\n"
          ],
          "name": "stdout"
        }
      ]
    },
    {
      "cell_type": "code",
      "metadata": {
        "id": "ODSkOBDgdyXt"
      },
      "source": [
        "text1 = \"This movie is fantastic! I really like it because it is so good!\"\r\n",
        "text2 = \"Good movie!\"\r\n",
        "text3 = \"Maybe I like this movie.\"\r\n",
        "text4 = \"Meh ...\"\r\n",
        "text5 = \"If I were a drunk teenager then this movie might be good.\"\r\n",
        "text6 = \"Bad movie!\"\r\n",
        "text7 = \"Not a good movie!\"\r\n",
        "text8 = \"This movie really sucks! Can I get my money back please?\"\r\n",
        "texts = [text1, text2, text3, text4, text5, text6, text7, text8]"
      ],
      "execution_count": 38,
      "outputs": []
    },
    {
      "cell_type": "code",
      "metadata": {
        "colab": {
          "base_uri": "https://localhost:8080/"
        },
        "id": "fceJJSKTd_gf",
        "outputId": "620e727f-65c1-496f-b7f4-0b77a1527d95"
      },
      "source": [
        "tokens = tokenizer.texts_to_sequences(texts)\r\n",
        "tokens_pad = pad_sequences(tokens, maxlen=max_tokens,\r\n",
        "                           padding=pad, truncating=pad)\r\n",
        "tokens_pad.shape"
      ],
      "execution_count": 39,
      "outputs": [
        {
          "output_type": "execute_result",
          "data": {
            "text/plain": [
              "(8, 544)"
            ]
          },
          "metadata": {
            "tags": []
          },
          "execution_count": 39
        }
      ]
    },
    {
      "cell_type": "code",
      "metadata": {
        "id": "SaS4ta53eDBd"
      },
      "source": [
        "preds = model.predict(tokens_pad)"
      ],
      "execution_count": 41,
      "outputs": []
    },
    {
      "cell_type": "code",
      "metadata": {
        "colab": {
          "base_uri": "https://localhost:8080/"
        },
        "id": "l3HuW2eZeG0q",
        "outputId": "eb448df6-a53b-493b-898e-741b92beff4a"
      },
      "source": [
        "for i in range(8):\r\n",
        "    print(texts[i])\r\n",
        "    print(\"Predicted: \", preds[i])\r\n",
        "    print()"
      ],
      "execution_count": 43,
      "outputs": [
        {
          "output_type": "stream",
          "text": [
            "This movie is fantastic! I really like it because it is so good!\n",
            "Predicted:  [0.9770672]\n",
            "\n",
            "Good movie!\n",
            "Predicted:  [0.90219927]\n",
            "\n",
            "Maybe I like this movie.\n",
            "Predicted:  [0.23454425]\n",
            "\n",
            "Meh ...\n",
            "Predicted:  [0.77514803]\n",
            "\n",
            "If I were a drunk teenager then this movie might be good.\n",
            "Predicted:  [0.0375695]\n",
            "\n",
            "Bad movie!\n",
            "Predicted:  [0.09728283]\n",
            "\n",
            "Not a good movie!\n",
            "Predicted:  [0.63216877]\n",
            "\n",
            "This movie really sucks! Can I get my money back please?\n",
            "Predicted:  [0.02857998]\n",
            "\n"
          ],
          "name": "stdout"
        }
      ]
    },
    {
      "cell_type": "code",
      "metadata": {
        "id": "KEHZ6e74eb7F"
      },
      "source": [
        ""
      ],
      "execution_count": null,
      "outputs": []
    }
  ]
}